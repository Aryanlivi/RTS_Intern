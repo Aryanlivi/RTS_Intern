{
 "cells": [
  {
   "cell_type": "code",
   "execution_count": 86,
   "metadata": {},
   "outputs": [],
   "source": [
    "import pandas as pd\n",
    "import matplotlib.pyplot as plt"
   ]
  },
  {
   "cell_type": "markdown",
   "metadata": {},
   "source": [
    "Reading Water Level At Galchi"
   ]
  },
  {
   "cell_type": "code",
   "execution_count": 70,
   "metadata": {},
   "outputs": [
    {
     "name": "stdout",
     "output_type": "stream",
     "text": [
      "dateTime    object\n",
      "value       object\n",
      "dtype: object\n"
     ]
    }
   ],
   "source": [
    "wlg_Sept01_Dec26=pd.read_csv('Dataset/2024/water_level_galchi_Sept01_Dec26.csv')\n",
    "wlg_Sept01_Dec26.head()\n",
    "print(wlg_Sept01_Dec26.dtypes)"
   ]
  },
  {
   "cell_type": "markdown",
   "metadata": {},
   "source": [
    "Handling Null Values in Original Dataset Via Interpolation"
   ]
  },
  {
   "cell_type": "code",
   "execution_count": 71,
   "metadata": {},
   "outputs": [],
   "source": [
    "def handle_null_values(df):\n",
    "    #for the first null value with no preceeding value.\n",
    "    df['value']=df['value'].fillna(method='bfill')\n",
    "    #since water levels are continuous and expected to follow a natural trend we interpolate null values\n",
    "    df['value']=df['value'].interpolate(method='linear') "
   ]
  },
  {
   "cell_type": "markdown",
   "metadata": {},
   "source": [
    "Converting to relevant data types:"
   ]
  },
  {
   "cell_type": "code",
   "execution_count": 72,
   "metadata": {},
   "outputs": [],
   "source": [
    "def preprocess_data(df):   \n",
    "    df['dateTime']=pd.to_datetime(df['dateTime'])\n",
    "    df['value']=pd.to_numeric(df['value'],errors='coerce')\n",
    "    df.set_index('dateTime',inplace=True)\n",
    "    handle_null_values(df)\n"
   ]
  },
  {
   "cell_type": "markdown",
   "metadata": {},
   "source": [
    "Preprocess Data"
   ]
  },
  {
   "cell_type": "code",
   "execution_count": 73,
   "metadata": {},
   "outputs": [
    {
     "name": "stderr",
     "output_type": "stream",
     "text": [
      "C:\\Users\\aryan\\AppData\\Local\\Temp\\ipykernel_3784\\2824129155.py:3: FutureWarning: Series.fillna with 'method' is deprecated and will raise in a future version. Use obj.ffill() or obj.bfill() instead.\n",
      "  df['value']=df['value'].fillna(method='bfill')\n"
     ]
    }
   ],
   "source": [
    "#Only the original df should be preprocessed,else there will be error\n",
    "preprocess_data(wlg_Sept01_Dec26)"
   ]
  },
  {
   "cell_type": "markdown",
   "metadata": {},
   "source": [
    "Verifying Preprocess Data"
   ]
  },
  {
   "cell_type": "code",
   "execution_count": null,
   "metadata": {},
   "outputs": [],
   "source": [
    "print(wlg_Sept01_Dec26.dtypes)\n",
    "print(wlg_Sept01_Dec26)\n",
    "print(wlg_Sept01_Dec26.isnull().sum())"
   ]
  },
  {
   "cell_type": "code",
   "execution_count": 77,
   "metadata": {},
   "outputs": [
    {
     "data": {
      "text/html": [
       "<div>\n",
       "<style scoped>\n",
       "    .dataframe tbody tr th:only-of-type {\n",
       "        vertical-align: middle;\n",
       "    }\n",
       "\n",
       "    .dataframe tbody tr th {\n",
       "        vertical-align: top;\n",
       "    }\n",
       "\n",
       "    .dataframe thead th {\n",
       "        text-align: right;\n",
       "    }\n",
       "</style>\n",
       "<table border=\"1\" class=\"dataframe\">\n",
       "  <thead>\n",
       "    <tr style=\"text-align: right;\">\n",
       "      <th></th>\n",
       "      <th>dateTime</th>\n",
       "      <th>value</th>\n",
       "    </tr>\n",
       "  </thead>\n",
       "  <tbody>\n",
       "    <tr>\n",
       "      <th>0</th>\n",
       "      <td>2024-09-01 00:00:00</td>\n",
       "      <td></td>\n",
       "    </tr>\n",
       "    <tr>\n",
       "      <th>1</th>\n",
       "      <td>2024-09-10 07:04:58</td>\n",
       "      <td>1.36950004101</td>\n",
       "    </tr>\n",
       "    <tr>\n",
       "      <th>2</th>\n",
       "      <td>2024-09-10 07:14:58</td>\n",
       "      <td>1.3696000576</td>\n",
       "    </tr>\n",
       "    <tr>\n",
       "      <th>3</th>\n",
       "      <td>2024-09-10 07:24:58</td>\n",
       "      <td>1.36979997158</td>\n",
       "    </tr>\n",
       "    <tr>\n",
       "      <th>4</th>\n",
       "      <td>2024-09-10 07:34:58</td>\n",
       "      <td>1.36870002747</td>\n",
       "    </tr>\n",
       "  </tbody>\n",
       "</table>\n",
       "</div>"
      ],
      "text/plain": [
       "              dateTime           value\n",
       "0  2024-09-01 00:00:00                \n",
       "1  2024-09-10 07:04:58   1.36950004101\n",
       "2  2024-09-10 07:14:58    1.3696000576\n",
       "3  2024-09-10 07:24:58   1.36979997158\n",
       "4  2024-09-10 07:34:58   1.36870002747"
      ]
     },
     "execution_count": 77,
     "metadata": {},
     "output_type": "execute_result"
    }
   ],
   "source": [
    "wlc_Sept01_Dec26=pd.read_csv('Dataset/2024/water_level_chumlingtar_Sept01_Dec26.csv')\n",
    "wlc_Sept01_Dec26.head()\n",
    "# print(wlc_Sept01_Dec26.dtypes)"
   ]
  },
  {
   "cell_type": "code",
   "execution_count": 80,
   "metadata": {},
   "outputs": [
    {
     "name": "stdout",
     "output_type": "stream",
     "text": [
      "dateTime    0\n",
      "value       0\n",
      "dtype: int64\n",
      "----------------------------\n",
      "dateTime    object\n",
      "value       object\n",
      "dtype: object\n"
     ]
    }
   ],
   "source": [
    "print(wlc_Sept01_Dec26.isnull().sum())\n",
    "print('----------------------------')\n",
    "print(wlc_Sept01_Dec26.dtypes)\n"
   ]
  },
  {
   "cell_type": "markdown",
   "metadata": {},
   "source": [
    "Preprocess Water Level at Chumlingtar"
   ]
  },
  {
   "cell_type": "code",
   "execution_count": 81,
   "metadata": {},
   "outputs": [
    {
     "name": "stderr",
     "output_type": "stream",
     "text": [
      "C:\\Users\\aryan\\AppData\\Local\\Temp\\ipykernel_3784\\2824129155.py:3: FutureWarning: Series.fillna with 'method' is deprecated and will raise in a future version. Use obj.ffill() or obj.bfill() instead.\n",
      "  df['value']=df['value'].fillna(method='bfill')\n"
     ]
    }
   ],
   "source": [
    "preprocess_data(wlc_Sept01_Dec26)"
   ]
  },
  {
   "cell_type": "code",
   "execution_count": 85,
   "metadata": {},
   "outputs": [
    {
     "data": {
      "text/html": [
       "<div>\n",
       "<style scoped>\n",
       "    .dataframe tbody tr th:only-of-type {\n",
       "        vertical-align: middle;\n",
       "    }\n",
       "\n",
       "    .dataframe tbody tr th {\n",
       "        vertical-align: top;\n",
       "    }\n",
       "\n",
       "    .dataframe thead th {\n",
       "        text-align: right;\n",
       "    }\n",
       "</style>\n",
       "<table border=\"1\" class=\"dataframe\">\n",
       "  <thead>\n",
       "    <tr style=\"text-align: right;\">\n",
       "      <th></th>\n",
       "      <th>value</th>\n",
       "    </tr>\n",
       "    <tr>\n",
       "      <th>dateTime</th>\n",
       "      <th></th>\n",
       "    </tr>\n",
       "  </thead>\n",
       "  <tbody>\n",
       "    <tr>\n",
       "      <th>2024-09-01 00:00:00</th>\n",
       "      <td>1.3695</td>\n",
       "    </tr>\n",
       "    <tr>\n",
       "      <th>2024-09-10 07:04:58</th>\n",
       "      <td>1.3695</td>\n",
       "    </tr>\n",
       "    <tr>\n",
       "      <th>2024-09-10 07:14:58</th>\n",
       "      <td>1.3696</td>\n",
       "    </tr>\n",
       "    <tr>\n",
       "      <th>2024-09-10 07:24:58</th>\n",
       "      <td>1.3698</td>\n",
       "    </tr>\n",
       "    <tr>\n",
       "      <th>2024-09-10 07:34:58</th>\n",
       "      <td>1.3687</td>\n",
       "    </tr>\n",
       "  </tbody>\n",
       "</table>\n",
       "</div>"
      ],
      "text/plain": [
       "                      value\n",
       "dateTime                   \n",
       "2024-09-01 00:00:00  1.3695\n",
       "2024-09-10 07:04:58  1.3695\n",
       "2024-09-10 07:14:58  1.3696\n",
       "2024-09-10 07:24:58  1.3698\n",
       "2024-09-10 07:34:58  1.3687"
      ]
     },
     "execution_count": 85,
     "metadata": {},
     "output_type": "execute_result"
    }
   ],
   "source": [
    "wlc_Sept01_Dec26.head()"
   ]
  },
  {
   "cell_type": "code",
   "execution_count": 94,
   "metadata": {},
   "outputs": [
    {
     "data": {
      "image/png": "[encoded data removed]",
      "text/plain": [
       "<Figure size 1500x500 with 1 Axes>"
      ]
     },
     "metadata": {},
     "output_type": "display_data"
    }
   ],
   "source": [
    "fig,ax=plt.subplots(figsize=(15,5))\n",
    "wlc_Sept01_Dec26.plot(ax=ax)\n",
    "plt.show()"
   ]
  },
  {
   "cell_type": "code",
   "execution_count": null,
   "metadata": {},
   "outputs": [],
   "source": [
    "def rolling_statistics(input_data):\n",
    "    pass"
   ]
  }
 ],
 "metadata": {
  "kernelspec": {
   "display_name": "rts_env",
   "language": "python",
   "name": "python3"
  },
  "language_info": {
   "codemirror_mode": {
    "name": "ipython",
    "version": 3
   },
   "file_extension": ".py",
   "mimetype": "text/x-python",
   "name": "python",
   "nbconvert_exporter": "python",
   "pygments_lexer": "ipython3",
   "version": "3.10.11"
  }
 },
 "nbformat": 4,
 "nbformat_minor": 2
}

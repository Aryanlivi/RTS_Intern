{
 "cells": [
  {
   "cell_type": "code",
   "execution_count": 32,
   "metadata": {},
   "outputs": [],
   "source": [
    "import pandas as pd  \n",
    "import matplotlib.pyplot as plt "
   ]
  },
  {
   "cell_type": "markdown",
   "metadata": {},
   "source": [
    "Reading Water Level At Galchi"
   ]
  },
  {
   "cell_type": "code",
   "execution_count": 33,
   "metadata": {},
   "outputs": [
    {
     "data": {
      "text/html": [
       "<div>\n",
       "<style scoped>\n",
       "    .dataframe tbody tr th:only-of-type {\n",
       "        vertical-align: middle;\n",
       "    }\n",
       "\n",
       "    .dataframe tbody tr th {\n",
       "        vertical-align: top;\n",
       "    }\n",
       "\n",
       "    .dataframe thead th {\n",
       "        text-align: right;\n",
       "    }\n",
       "</style>\n",
       "<table border=\"1\" class=\"dataframe\">\n",
       "  <thead>\n",
       "    <tr style=\"text-align: right;\">\n",
       "      <th></th>\n",
       "      <th>dateTime</th>\n",
       "      <th>value</th>\n",
       "    </tr>\n",
       "  </thead>\n",
       "  <tbody>\n",
       "    <tr>\n",
       "      <th>0</th>\n",
       "      <td>2024-12-10 00:00:00</td>\n",
       "      <td></td>\n",
       "    </tr>\n",
       "    <tr>\n",
       "      <th>1</th>\n",
       "      <td>2024-12-10 00:05:00</td>\n",
       "      <td>366.192382812</td>\n",
       "    </tr>\n",
       "    <tr>\n",
       "      <th>2</th>\n",
       "      <td>2024-12-10 00:15:00</td>\n",
       "      <td>366.191497803</td>\n",
       "    </tr>\n",
       "    <tr>\n",
       "      <th>3</th>\n",
       "      <td>2024-12-10 00:25:00</td>\n",
       "      <td>366.197784424</td>\n",
       "    </tr>\n",
       "    <tr>\n",
       "      <th>4</th>\n",
       "      <td>2024-12-10 00:35:00</td>\n",
       "      <td>366.1980896</td>\n",
       "    </tr>\n",
       "  </tbody>\n",
       "</table>\n",
       "</div>"
      ],
      "text/plain": [
       "              dateTime           value\n",
       "0  2024-12-10 00:00:00                \n",
       "1  2024-12-10 00:05:00   366.192382812\n",
       "2  2024-12-10 00:15:00   366.191497803\n",
       "3  2024-12-10 00:25:00   366.197784424\n",
       "4  2024-12-10 00:35:00     366.1980896"
      ]
     },
     "execution_count": 33,
     "metadata": {},
     "output_type": "execute_result"
    }
   ],
   "source": [
    "wl_galchi_dec10_dec12=pd.read_csv('Dataset/Galchi_2024-12-10 to 2024-12-12.csv')\n",
    "wl_galchi_dec10_dec12.head()"
   ]
  },
  {
   "cell_type": "markdown",
   "metadata": {},
   "source": [
    "Handling Null Values in Original Dataset Via Interpolation"
   ]
  },
  {
   "cell_type": "code",
   "execution_count": 34,
   "metadata": {},
   "outputs": [],
   "source": [
    "def handle_null_values(df):\n",
    "    #for the first null value with no preceeding value.\n",
    "    df['value']=df['value'].fillna(method='bfill')\n",
    "    #since water levels are continuous and expected to follow a natural trend we interpolate null values\n",
    "    df['value']=df['value'].interpolate(method='linear') "
   ]
  },
  {
   "cell_type": "markdown",
   "metadata": {},
   "source": [
    "Handle Obvious Outliers"
   ]
  },
  {
   "cell_type": "code",
   "execution_count": 35,
   "metadata": {},
   "outputs": [],
   "source": [
    "def handle_outliers(df):\n",
    "    min_value=50\n",
    "    max_value=10000000\n",
    "    # Remove rows where the specific column's value is below the minimum or above the maximum threshold\n",
    "    df = df[(df[column_name] <= min_value) & (df[column_name] >= max_value)]\n",
    "    \n",
    "    # Drop rows where any column contains NaN (if necessary)\n",
    "    df.dropna(inplace=True)\n",
    "    \n",
    "    return df"
   ]
  },
  {
   "cell_type": "markdown",
   "metadata": {},
   "source": [
    "Converting to relevant data types:"
   ]
  },
  {
   "cell_type": "code",
   "execution_count": 36,
   "metadata": {},
   "outputs": [],
   "source": [
    "def preprocess_data(df):   \n",
    "    df['dateTime']=pd.to_datetime(df['dateTime'])\n",
    "    df['value']=pd.to_numeric(df['value'],errors='coerce')\n",
    "    df.set_index('dateTime',inplace=True)\n",
    "    handle_outliers(df)\n",
    "    handle_null_values(df)\n"
   ]
  },
  {
   "cell_type": "markdown",
   "metadata": {},
   "source": [
    "Preprocess Data"
   ]
  },
  {
   "cell_type": "code",
   "execution_count": 8,
   "metadata": {},
   "outputs": [
    {
     "name": "stderr",
     "output_type": "stream",
     "text": [
      "C:\\Users\\aryan\\AppData\\Local\\Temp\\ipykernel_10488\\2824129155.py:3: FutureWarning: Series.fillna with 'method' is deprecated and will raise in a future version. Use obj.ffill() or obj.bfill() instead.\n",
      "  df['value']=df['value'].fillna(method='bfill')\n"
     ]
    }
   ],
   "source": [
    "#Only the original df should be preprocessed,else there will be error\n",
    "preprocess_data(wl_galchi_dec10_dec12)"
   ]
  },
  {
   "cell_type": "code",
   "execution_count": 9,
   "metadata": {},
   "outputs": [
    {
     "data": {
      "text/html": [
       "<div>\n",
       "<style scoped>\n",
       "    .dataframe tbody tr th:only-of-type {\n",
       "        vertical-align: middle;\n",
       "    }\n",
       "\n",
       "    .dataframe tbody tr th {\n",
       "        vertical-align: top;\n",
       "    }\n",
       "\n",
       "    .dataframe thead th {\n",
       "        text-align: right;\n",
       "    }\n",
       "</style>\n",
       "<table border=\"1\" class=\"dataframe\">\n",
       "  <thead>\n",
       "    <tr style=\"text-align: right;\">\n",
       "      <th></th>\n",
       "      <th>value</th>\n",
       "    </tr>\n",
       "    <tr>\n",
       "      <th>dateTime</th>\n",
       "      <th></th>\n",
       "    </tr>\n",
       "  </thead>\n",
       "  <tbody>\n",
       "    <tr>\n",
       "      <th>2024-12-10 00:00:00</th>\n",
       "      <td>366.192383</td>\n",
       "    </tr>\n",
       "    <tr>\n",
       "      <th>2024-12-10 00:05:00</th>\n",
       "      <td>366.192383</td>\n",
       "    </tr>\n",
       "    <tr>\n",
       "      <th>2024-12-10 00:15:00</th>\n",
       "      <td>366.191498</td>\n",
       "    </tr>\n",
       "    <tr>\n",
       "      <th>2024-12-10 00:25:00</th>\n",
       "      <td>366.197784</td>\n",
       "    </tr>\n",
       "    <tr>\n",
       "      <th>2024-12-10 00:35:00</th>\n",
       "      <td>366.198090</td>\n",
       "    </tr>\n",
       "  </tbody>\n",
       "</table>\n",
       "</div>"
      ],
      "text/plain": [
       "                          value\n",
       "dateTime                       \n",
       "2024-12-10 00:00:00  366.192383\n",
       "2024-12-10 00:05:00  366.192383\n",
       "2024-12-10 00:15:00  366.191498\n",
       "2024-12-10 00:25:00  366.197784\n",
       "2024-12-10 00:35:00  366.198090"
      ]
     },
     "execution_count": 9,
     "metadata": {},
     "output_type": "execute_result"
    }
   ],
   "source": [
    "wl_galchi_dec10_dec12.head()"
   ]
  },
  {
   "cell_type": "markdown",
   "metadata": {},
   "source": [
    "Verifying Preprocess Data"
   ]
  },
  {
   "cell_type": "code",
   "execution_count": 11,
   "metadata": {},
   "outputs": [
    {
     "name": "stdout",
     "output_type": "stream",
     "text": [
      "value    float64\n",
      "dtype: object\n",
      "                          value\n",
      "dateTime                       \n",
      "2024-12-10 00:00:00  366.192383\n",
      "2024-12-10 00:05:00  366.192383\n",
      "2024-12-10 00:15:00  366.191498\n",
      "2024-12-10 00:25:00  366.197784\n",
      "2024-12-10 00:35:00  366.198090\n",
      "...                         ...\n",
      "2024-12-12 23:25:00  366.182678\n",
      "2024-12-12 23:35:00  366.180695\n",
      "2024-12-12 23:45:00  366.178894\n",
      "2024-12-12 23:55:00  366.181793\n",
      "2024-12-12 23:59:59  366.181793\n",
      "\n",
      "[434 rows x 1 columns]\n",
      "value    0\n",
      "dtype: int64\n"
     ]
    }
   ],
   "source": [
    "print(wl_galchi_dec10_dec12.dtypes)\n",
    "print(wl_galchi_dec10_dec12)\n",
    "print(wl_galchi_dec10_dec12.isnull().sum())"
   ]
  },
  {
   "cell_type": "markdown",
   "metadata": {},
   "source": [
    "Get Plot Bounds"
   ]
  },
  {
   "cell_type": "code",
   "execution_count": 12,
   "metadata": {},
   "outputs": [],
   "source": [
    "def get_plot_bounds(input_data):\n",
    "    # Calculate the min and max values \n",
    "    min_value = input_data.min()\n",
    "    max_value = input_data.max()\n",
    "\n",
    "    # Adding a small margin to the min and max values to make sure the plot is not clipped\n",
    "    margin = 0.05  # 5% margin\n",
    "    min_margin = min_value - margin * (max_value - min_value)\n",
    "    max_margin = max_value + margin * (max_value - min_value)\n",
    "    return min_margin,max_margin\n",
    "    "
   ]
  },
  {
   "cell_type": "markdown",
   "metadata": {},
   "source": [
    "Plot Water Level Data"
   ]
  },
  {
   "cell_type": "code",
   "execution_count": 29,
   "metadata": {},
   "outputs": [
    {
     "data": {
      "image/png": "[encoded data removed]",
      "text/plain": [
       "<Figure size 1500x500 with 1 Axes>"
      ]
     },
     "metadata": {},
     "output_type": "display_data"
    }
   ],
   "source": [
    "fig,ax=plt.subplots(figsize=(15,5))\n",
    "# min_margin,max_margin=get_plot_bounds(wl_galchi_dec10_dec12['value'])\n",
    "wl_galchi_dec10_dec12.plot(ax=ax,color='blue')\n",
    "ax.set_ylabel('Water Level(m)')\n",
    "ax.legend(['Water Level(m)'])\n",
    "# ax.set_ylim(min_margin,max_margin)\n",
    "plt.show()\n"
   ]
  },
  {
   "cell_type": "markdown",
   "metadata": {},
   "source": [
    "Read Water Level at Chumlingtar"
   ]
  },
  {
   "cell_type": "code",
   "execution_count": null,
   "metadata": {},
   "outputs": [],
   "source": [
    "wl_galchi_dec10_dec12=pd.read_csv('Dataset/Galchi_2024-12-10 to 2024-12-12.csv')\n",
    "wl_galchi_dec10_dec12.head()"
   ]
  }
 ],
 "metadata": {
  "kernelspec": {
   "display_name": "rts_env",
   "language": "python",
   "name": "python3"
  },
  "language_info": {
   "codemirror_mode": {
    "name": "ipython",
    "version": 3
   },
   "file_extension": ".py",
   "mimetype": "text/x-python",
   "name": "python",
   "nbconvert_exporter": "python",
   "pygments_lexer": "ipython3",
   "version": "3.10.11"
  }
 },
 "nbformat": 4,
 "nbformat_minor": 2
}

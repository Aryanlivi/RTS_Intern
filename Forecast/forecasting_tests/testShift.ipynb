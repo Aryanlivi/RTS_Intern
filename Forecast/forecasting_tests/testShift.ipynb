{
 "cells": [
  {
   "cell_type": "code",
   "execution_count": 86,
   "metadata": {},
   "outputs": [],
   "source": [
    "import pandas as pd\n",
    "import numpy as np"
   ]
  },
  {
   "cell_type": "code",
   "execution_count": 105,
   "metadata": {},
   "outputs": [],
   "source": [
    "df1=pd.read_csv('Dataset/test/wl_galchi.csv')\n",
    "df2=pd.read_csv('Dataset/test/wl_buddhi.csv')"
   ]
  },
  {
   "cell_type": "code",
   "execution_count": 106,
   "metadata": {},
   "outputs": [
    {
     "data": {
      "text/html": [
       "<div>\n",
       "<style scoped>\n",
       "    .dataframe tbody tr th:only-of-type {\n",
       "        vertical-align: middle;\n",
       "    }\n",
       "\n",
       "    .dataframe tbody tr th {\n",
       "        vertical-align: top;\n",
       "    }\n",
       "\n",
       "    .dataframe thead th {\n",
       "        text-align: right;\n",
       "    }\n",
       "</style>\n",
       "<table border=\"1\" class=\"dataframe\">\n",
       "  <thead>\n",
       "    <tr style=\"text-align: right;\">\n",
       "      <th></th>\n",
       "      <th>dateTime</th>\n",
       "      <th>value</th>\n",
       "      <th>discharge</th>\n",
       "      <th>mean_velocity</th>\n",
       "    </tr>\n",
       "  </thead>\n",
       "  <tbody>\n",
       "    <tr>\n",
       "      <th>0</th>\n",
       "      <td>2024-12-10 00:05:00</td>\n",
       "      <td>366.192383</td>\n",
       "      <td>91.093562</td>\n",
       "      <td>1.324187</td>\n",
       "    </tr>\n",
       "    <tr>\n",
       "      <th>1</th>\n",
       "      <td>2024-12-10 00:15:00</td>\n",
       "      <td>366.191498</td>\n",
       "      <td>90.925333</td>\n",
       "      <td>1.323851</td>\n",
       "    </tr>\n",
       "    <tr>\n",
       "      <th>2</th>\n",
       "      <td>2024-12-10 00:25:00</td>\n",
       "      <td>366.197784</td>\n",
       "      <td>92.121625</td>\n",
       "      <td>1.326243</td>\n",
       "    </tr>\n",
       "    <tr>\n",
       "      <th>3</th>\n",
       "      <td>2024-12-10 00:35:00</td>\n",
       "      <td>366.198090</td>\n",
       "      <td>92.179774</td>\n",
       "      <td>1.326360</td>\n",
       "    </tr>\n",
       "    <tr>\n",
       "      <th>4</th>\n",
       "      <td>2024-12-10 00:45:00</td>\n",
       "      <td>366.200989</td>\n",
       "      <td>92.732533</td>\n",
       "      <td>1.327465</td>\n",
       "    </tr>\n",
       "  </tbody>\n",
       "</table>\n",
       "</div>"
      ],
      "text/plain": [
       "              dateTime       value  discharge  mean_velocity\n",
       "0  2024-12-10 00:05:00  366.192383  91.093562       1.324187\n",
       "1  2024-12-10 00:15:00  366.191498  90.925333       1.323851\n",
       "2  2024-12-10 00:25:00  366.197784  92.121625       1.326243\n",
       "3  2024-12-10 00:35:00  366.198090  92.179774       1.326360\n",
       "4  2024-12-10 00:45:00  366.200989  92.732533       1.327465"
      ]
     },
     "execution_count": 106,
     "metadata": {},
     "output_type": "execute_result"
    }
   ],
   "source": [
    "df1.head()"
   ]
  },
  {
   "cell_type": "code",
   "execution_count": 107,
   "metadata": {},
   "outputs": [],
   "source": [
    "def calculate_time_lag_min(distance,velocity):\n",
    "    time_lag = distance / (velocity*60)\n",
    "    if np.isnan(velocity) or velocity == 0:\n",
    "        return np.nan  # Return NaN if velocity is invalid\n",
    "    return time_lag"
   ]
  },
  {
   "cell_type": "code",
   "execution_count": 108,
   "metadata": {},
   "outputs": [],
   "source": [
    "df1_dist=30000\n",
    "df2_dist=18500\n",
    "\n",
    "df1['time_lag']=df1.apply(lambda row: calculate_time_lag_min(df1_dist, row['mean_velocity']), axis=1)\n",
    "df2['time_lag']=df2.apply(lambda row: calculate_time_lag_min(df1_dist, row['mean_velocity']), axis=1)\n"
   ]
  },
  {
   "cell_type": "code",
   "execution_count": 109,
   "metadata": {},
   "outputs": [
    {
     "data": {
      "text/html": [
       "<div>\n",
       "<style scoped>\n",
       "    .dataframe tbody tr th:only-of-type {\n",
       "        vertical-align: middle;\n",
       "    }\n",
       "\n",
       "    .dataframe tbody tr th {\n",
       "        vertical-align: top;\n",
       "    }\n",
       "\n",
       "    .dataframe thead th {\n",
       "        text-align: right;\n",
       "    }\n",
       "</style>\n",
       "<table border=\"1\" class=\"dataframe\">\n",
       "  <thead>\n",
       "    <tr style=\"text-align: right;\">\n",
       "      <th></th>\n",
       "      <th>dateTime</th>\n",
       "      <th>value</th>\n",
       "      <th>discharge</th>\n",
       "      <th>mean_velocity</th>\n",
       "      <th>time_lag</th>\n",
       "    </tr>\n",
       "  </thead>\n",
       "  <tbody>\n",
       "    <tr>\n",
       "      <th>0</th>\n",
       "      <td>2024-12-10 00:05:00</td>\n",
       "      <td>366.192383</td>\n",
       "      <td>91.093562</td>\n",
       "      <td>1.324187</td>\n",
       "      <td>378</td>\n",
       "    </tr>\n",
       "    <tr>\n",
       "      <th>1</th>\n",
       "      <td>2024-12-10 00:15:00</td>\n",
       "      <td>366.191498</td>\n",
       "      <td>90.925333</td>\n",
       "      <td>1.323851</td>\n",
       "      <td>378</td>\n",
       "    </tr>\n",
       "    <tr>\n",
       "      <th>2</th>\n",
       "      <td>2024-12-10 00:25:00</td>\n",
       "      <td>366.197784</td>\n",
       "      <td>92.121625</td>\n",
       "      <td>1.326243</td>\n",
       "      <td>377</td>\n",
       "    </tr>\n",
       "    <tr>\n",
       "      <th>3</th>\n",
       "      <td>2024-12-10 00:35:00</td>\n",
       "      <td>366.198090</td>\n",
       "      <td>92.179774</td>\n",
       "      <td>1.326360</td>\n",
       "      <td>377</td>\n",
       "    </tr>\n",
       "    <tr>\n",
       "      <th>4</th>\n",
       "      <td>2024-12-10 00:45:00</td>\n",
       "      <td>366.200989</td>\n",
       "      <td>92.732533</td>\n",
       "      <td>1.327465</td>\n",
       "      <td>377</td>\n",
       "    </tr>\n",
       "  </tbody>\n",
       "</table>\n",
       "</div>"
      ],
      "text/plain": [
       "              dateTime       value  discharge  mean_velocity  time_lag\n",
       "0  2024-12-10 00:05:00  366.192383  91.093562       1.324187       378\n",
       "1  2024-12-10 00:15:00  366.191498  90.925333       1.323851       378\n",
       "2  2024-12-10 00:25:00  366.197784  92.121625       1.326243       377\n",
       "3  2024-12-10 00:35:00  366.198090  92.179774       1.326360       377\n",
       "4  2024-12-10 00:45:00  366.200989  92.732533       1.327465       377"
      ]
     },
     "execution_count": 109,
     "metadata": {},
     "output_type": "execute_result"
    }
   ],
   "source": [
    "df1.head()"
   ]
  },
  {
   "cell_type": "code",
   "execution_count": 111,
   "metadata": {},
   "outputs": [
    {
     "data": {
      "text/html": [
       "<div>\n",
       "<style scoped>\n",
       "    .dataframe tbody tr th:only-of-type {\n",
       "        vertical-align: middle;\n",
       "    }\n",
       "\n",
       "    .dataframe tbody tr th {\n",
       "        vertical-align: top;\n",
       "    }\n",
       "\n",
       "    .dataframe thead th {\n",
       "        text-align: right;\n",
       "    }\n",
       "</style>\n",
       "<table border=\"1\" class=\"dataframe\">\n",
       "  <thead>\n",
       "    <tr style=\"text-align: right;\">\n",
       "      <th></th>\n",
       "      <th>dateTime</th>\n",
       "      <th>value</th>\n",
       "      <th>discharge</th>\n",
       "      <th>mean_velocity</th>\n",
       "      <th>time_lag</th>\n",
       "      <th>period</th>\n",
       "    </tr>\n",
       "  </thead>\n",
       "  <tbody>\n",
       "    <tr>\n",
       "      <th>0</th>\n",
       "      <td>2024-12-10 00:05:00</td>\n",
       "      <td>366.192383</td>\n",
       "      <td>91.093562</td>\n",
       "      <td>1.324187</td>\n",
       "      <td>378</td>\n",
       "      <td>37</td>\n",
       "    </tr>\n",
       "    <tr>\n",
       "      <th>1</th>\n",
       "      <td>2024-12-10 00:15:00</td>\n",
       "      <td>366.191498</td>\n",
       "      <td>90.925333</td>\n",
       "      <td>1.323851</td>\n",
       "      <td>378</td>\n",
       "      <td>37</td>\n",
       "    </tr>\n",
       "    <tr>\n",
       "      <th>2</th>\n",
       "      <td>2024-12-10 00:25:00</td>\n",
       "      <td>366.197784</td>\n",
       "      <td>92.121625</td>\n",
       "      <td>1.326243</td>\n",
       "      <td>377</td>\n",
       "      <td>37</td>\n",
       "    </tr>\n",
       "    <tr>\n",
       "      <th>3</th>\n",
       "      <td>2024-12-10 00:35:00</td>\n",
       "      <td>366.198090</td>\n",
       "      <td>92.179774</td>\n",
       "      <td>1.326360</td>\n",
       "      <td>377</td>\n",
       "      <td>37</td>\n",
       "    </tr>\n",
       "    <tr>\n",
       "      <th>4</th>\n",
       "      <td>2024-12-10 00:45:00</td>\n",
       "      <td>366.200989</td>\n",
       "      <td>92.732533</td>\n",
       "      <td>1.327465</td>\n",
       "      <td>377</td>\n",
       "      <td>37</td>\n",
       "    </tr>\n",
       "  </tbody>\n",
       "</table>\n",
       "</div>"
      ],
      "text/plain": [
       "              dateTime       value  discharge  mean_velocity  time_lag  period\n",
       "0  2024-12-10 00:05:00  366.192383  91.093562       1.324187       378      37\n",
       "1  2024-12-10 00:15:00  366.191498  90.925333       1.323851       378      37\n",
       "2  2024-12-10 00:25:00  366.197784  92.121625       1.326243       377      37\n",
       "3  2024-12-10 00:35:00  366.198090  92.179774       1.326360       377      37\n",
       "4  2024-12-10 00:45:00  366.200989  92.732533       1.327465       377      37"
      ]
     },
     "execution_count": 111,
     "metadata": {},
     "output_type": "execute_result"
    }
   ],
   "source": [
    "df1['period']=df1['time_lag']//10\n",
    "df1.head()"
   ]
  },
  {
   "cell_type": "code",
   "execution_count": 113,
   "metadata": {},
   "outputs": [
    {
     "data": {
      "text/plain": [
       "dateTime         datetime64[ns]\n",
       "value                   float64\n",
       "discharge               float64\n",
       "mean_velocity           float64\n",
       "time_lag                  int64\n",
       "period                    int64\n",
       "dtype: object"
      ]
     },
     "execution_count": 113,
     "metadata": {},
     "output_type": "execute_result"
    }
   ],
   "source": [
    "df2['period']=df2['time_lag']//10\n",
    "df1.head()\n",
    "df1['dateTime']=pd.to_datetime(df1['dateTime'])\n",
    "df2['dateTime']=pd.to_datetime(df2['dateTime'])\n",
    "df1.dtypes"
   ]
  },
  {
   "cell_type": "code",
   "execution_count": 114,
   "metadata": {},
   "outputs": [],
   "source": [
    "df1.set_index('dateTime',inplace=True)"
   ]
  },
  {
   "cell_type": "code",
   "execution_count": 117,
   "metadata": {},
   "outputs": [],
   "source": [
    "df2.set_index('dateTime',inplace=True)"
   ]
  },
  {
   "cell_type": "code",
   "execution_count": 118,
   "metadata": {},
   "outputs": [
    {
     "data": {
      "text/plain": [
       "value            float64\n",
       "discharge        float64\n",
       "mean_velocity    float64\n",
       "time_lag           int64\n",
       "period             int64\n",
       "dtype: object"
      ]
     },
     "execution_count": 118,
     "metadata": {},
     "output_type": "execute_result"
    }
   ],
   "source": [
    "df1.dtypes"
   ]
  },
  {
   "cell_type": "code",
   "execution_count": 119,
   "metadata": {},
   "outputs": [],
   "source": [
    "\n",
    "def shift_row(date,period):\n",
    "    print(date)\n",
    "    df['shifted_dateTime'] = date + timedelta(minutes=period * 10)\n",
    "    print(df)\n",
    "    # return df['discharge'].shift(periods=shift_amount)"
   ]
  },
  {
   "cell_type": "code",
   "execution_count": 74,
   "metadata": {},
   "outputs": [],
   "source": [
    "def shifted_dateTime(date):\n",
    "    shifted=date + timedelta(minutes=period * 10)\n",
    "    \n",
    "    return shifted"
   ]
  },
  {
   "cell_type": "code",
   "execution_count": 127,
   "metadata": {},
   "outputs": [],
   "source": [
    "def create_shifted_df(df):\n",
    "    shifted_data = [\n",
    "    {'dateTime': index + pd.DateOffset(minutes=period*10), 'discharge': discharge}\n",
    "    for index, period, discharge in zip(df.index, df['period'], df['discharge'])\n",
    "]\n",
    "    return pd.DataFrame(shifted_data)"
   ]
  },
  {
   "cell_type": "code",
   "execution_count": 125,
   "metadata": {},
   "outputs": [],
   "source": [
    "shifted_df1=create_shifted_df(df1)\n",
    "# df1.index.dtype"
   ]
  },
  {
   "cell_type": "code",
   "execution_count": 126,
   "metadata": {},
   "outputs": [
    {
     "data": {
      "text/html": [
       "<div>\n",
       "<style scoped>\n",
       "    .dataframe tbody tr th:only-of-type {\n",
       "        vertical-align: middle;\n",
       "    }\n",
       "\n",
       "    .dataframe tbody tr th {\n",
       "        vertical-align: top;\n",
       "    }\n",
       "\n",
       "    .dataframe thead th {\n",
       "        text-align: right;\n",
       "    }\n",
       "</style>\n",
       "<table border=\"1\" class=\"dataframe\">\n",
       "  <thead>\n",
       "    <tr style=\"text-align: right;\">\n",
       "      <th></th>\n",
       "      <th>dateTime</th>\n",
       "      <th>discharge</th>\n",
       "    </tr>\n",
       "  </thead>\n",
       "  <tbody>\n",
       "    <tr>\n",
       "      <th>0</th>\n",
       "      <td>2024-12-10 06:23:00</td>\n",
       "      <td>91.093562</td>\n",
       "    </tr>\n",
       "    <tr>\n",
       "      <th>1</th>\n",
       "      <td>2024-12-10 06:33:00</td>\n",
       "      <td>90.925333</td>\n",
       "    </tr>\n",
       "    <tr>\n",
       "      <th>2</th>\n",
       "      <td>2024-12-10 06:42:00</td>\n",
       "      <td>92.121625</td>\n",
       "    </tr>\n",
       "    <tr>\n",
       "      <th>3</th>\n",
       "      <td>2024-12-10 06:52:00</td>\n",
       "      <td>92.179774</td>\n",
       "    </tr>\n",
       "    <tr>\n",
       "      <th>4</th>\n",
       "      <td>2024-12-10 07:02:00</td>\n",
       "      <td>92.732533</td>\n",
       "    </tr>\n",
       "    <tr>\n",
       "      <th>...</th>\n",
       "      <td>...</td>\n",
       "      <td>...</td>\n",
       "    </tr>\n",
       "    <tr>\n",
       "      <th>427</th>\n",
       "      <td>2024-12-13 05:34:00</td>\n",
       "      <td>88.801527</td>\n",
       "    </tr>\n",
       "    <tr>\n",
       "      <th>428</th>\n",
       "      <td>2024-12-13 05:44:00</td>\n",
       "      <td>89.252104</td>\n",
       "    </tr>\n",
       "    <tr>\n",
       "      <th>429</th>\n",
       "      <td>2024-12-13 05:54:00</td>\n",
       "      <td>88.876593</td>\n",
       "    </tr>\n",
       "    <tr>\n",
       "      <th>430</th>\n",
       "      <td>2024-12-13 06:04:00</td>\n",
       "      <td>88.536007</td>\n",
       "    </tr>\n",
       "    <tr>\n",
       "      <th>431</th>\n",
       "      <td>2024-12-13 06:14:00</td>\n",
       "      <td>89.084531</td>\n",
       "    </tr>\n",
       "  </tbody>\n",
       "</table>\n",
       "<p>432 rows × 2 columns</p>\n",
       "</div>"
      ],
      "text/plain": [
       "               dateTime  discharge\n",
       "0   2024-12-10 06:23:00  91.093562\n",
       "1   2024-12-10 06:33:00  90.925333\n",
       "2   2024-12-10 06:42:00  92.121625\n",
       "3   2024-12-10 06:52:00  92.179774\n",
       "4   2024-12-10 07:02:00  92.732533\n",
       "..                  ...        ...\n",
       "427 2024-12-13 05:34:00  88.801527\n",
       "428 2024-12-13 05:44:00  89.252104\n",
       "429 2024-12-13 05:54:00  88.876593\n",
       "430 2024-12-13 06:04:00  88.536007\n",
       "431 2024-12-13 06:14:00  89.084531\n",
       "\n",
       "[432 rows x 2 columns]"
      ]
     },
     "execution_count": 126,
     "metadata": {},
     "output_type": "execute_result"
    }
   ],
   "source": [
    "shifted_df1"
   ]
  },
  {
   "cell_type": "code",
   "execution_count": null,
   "metadata": {},
   "outputs": [],
   "source": []
  }
 ],
 "metadata": {
  "kernelspec": {
   "display_name": "rts_env",
   "language": "python",
   "name": "python3"
  },
  "language_info": {
   "codemirror_mode": {
    "name": "ipython",
    "version": 3
   },
   "file_extension": ".py",
   "mimetype": "text/x-python",
   "name": "python",
   "nbconvert_exporter": "python",
   "pygments_lexer": "ipython3",
   "version": "3.10.11"
  }
 },
 "nbformat": 4,
 "nbformat_minor": 2
}

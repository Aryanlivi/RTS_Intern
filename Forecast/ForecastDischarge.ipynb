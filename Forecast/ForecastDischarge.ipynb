{
 "cells": [
  {
   "cell_type": "markdown",
   "metadata": {},
   "source": [
    "IMPORTS"
   ]
  },
  {
   "cell_type": "code",
   "execution_count": 16,
   "metadata": {},
   "outputs": [],
   "source": [
    "import pandas as pd \n",
    "import matplotlib.pyplot as plt\n",
    "from FetchData import fetch_data"
   ]
  },
  {
   "cell_type": "markdown",
   "metadata": {},
   "source": [
    "Preprocessing"
   ]
  },
  {
   "cell_type": "code",
   "execution_count": 17,
   "metadata": {},
   "outputs": [],
   "source": [
    "def preprocess_data(df):   \n",
    "    df['datetime']=pd.to_datetime(df['datetime'])\n",
    "    df['value']=pd.to_numeric(df['value'],errors='coerce')\n",
    "    df.set_index('datetime',inplace=True)\n",
    "    # df=handle_outliers(df)\n",
    "    # handle_null_values(df)\n",
    "    return df\n"
   ]
  },
  {
   "cell_type": "markdown",
   "metadata": {},
   "source": [
    "CONSTANTS"
   ]
  },
  {
   "cell_type": "code",
   "execution_count": 18,
   "metadata": {},
   "outputs": [],
   "source": [
    "#Getting Data and creating Dataframe.\n",
    "GalchiSeriesId=7027\n",
    "SiurentarSeriesID=7009\n",
    "chumlingatSeriesID=6991\n",
    "BudhiGandakiSeriesID=7045\n",
    "\n",
    "START_DATE=\"2024-12-14:00:00\"\n",
    "END_DATE=\"2024-12-16T00:00:00\""
   ]
  },
  {
   "cell_type": "markdown",
   "metadata": {},
   "source": [
    "FETCH FROM API AND CREATE DF"
   ]
  },
  {
   "cell_type": "code",
   "execution_count": 24,
   "metadata": {},
   "outputs": [],
   "source": [
    "budhi_gandaki_data = fetch_data(BudhiGandakiSeriesID,START_DATE , END_DATE)\n",
    "galchi_data = fetch_data(GalchiSeriesId, START_DATE, END_DATE)\n",
    "siurentar_data = fetch_data(SiurentarSeriesID, \"2024-12-14:00:00\", \"2024-12-22T00:00:00\")\n",
    "\n",
    "#creating DataFrame\n",
    "budhi_gandaki_df=pd.DataFrame(budhi_gandaki_data)\n",
    "galchi_df=pd.DataFrame(galchi_data)\n",
    "siurentar_df=pd.DataFrame(siurentar_data)\n",
    "\n",
    "# #preprocess\n",
    "budhi_gandaki_df=preprocess_data(budhi_gandaki_df)\n",
    "galchi_df=preprocess_data(galchi_df)\n",
    "siurentar_df=preprocess_data(siurentar_df)\n",
    "\n",
    "#export csv\n",
    "budhi_gandaki_df.to_csv('Dataset/Dev/Original_Fetched/budhi_gandaki_df.csv',index=True)\n",
    "galchi_df.to_csv('Dataset/Dev/Original_Fetched/galchi_df.csv',index=True)\n",
    "siurentar_df.to_csv('Dataset/Dev/Original_Fetched/siurentar_df.csv',index=True)"
   ]
  },
  {
   "cell_type": "code",
   "execution_count": null,
   "metadata": {},
   "outputs": [],
   "source": []
  }
 ],
 "metadata": {
  "kernelspec": {
   "display_name": "rts_env",
   "language": "python",
   "name": "python3"
  },
  "language_info": {
   "codemirror_mode": {
    "name": "ipython",
    "version": 3
   },
   "file_extension": ".py",
   "mimetype": "text/x-python",
   "name": "python",
   "nbconvert_exporter": "python",
   "pygments_lexer": "ipython3",
   "version": "3.10.11"
  }
 },
 "nbformat": 4,
 "nbformat_minor": 2
}

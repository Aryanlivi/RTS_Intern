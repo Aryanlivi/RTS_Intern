{
 "cells": [
  {
   "cell_type": "markdown",
   "metadata": {},
   "source": [
    "IMPORTS"
   ]
  },
  {
   "cell_type": "code",
   "execution_count": 5,
   "metadata": {},
   "outputs": [],
   "source": [
    "import pandas as pd \n",
    "import matplotlib.pyplot as plt\n",
    "from FetchData import fetch_data\n",
    "from Utils import  *"
   ]
  },
  {
   "cell_type": "markdown",
   "metadata": {},
   "source": [
    "Constants"
   ]
  },
  {
   "cell_type": "code",
   "execution_count": null,
   "metadata": {},
   "outputs": [],
   "source": [
    "DISTANCE_GALCHI_SUIRENITAR=30000\n",
    "DISTANCE_BUDHI_SUIRENITAR=18500"
   ]
  },
  {
   "cell_type": "markdown",
   "metadata": {},
   "source": [
    "MATPLLOTLIB SETTINGS"
   ]
  },
  {
   "cell_type": "code",
   "execution_count": 15,
   "metadata": {},
   "outputs": [],
   "source": [
    "plt.style.use('ggplot')"
   ]
  },
  {
   "cell_type": "markdown",
   "metadata": {},
   "source": [
    "Preprocessing"
   ]
  },
  {
   "cell_type": "code",
   "execution_count": 6,
   "metadata": {},
   "outputs": [],
   "source": [
    "def preprocess_data(df):   \n",
    "    df['datetime']=pd.to_datetime(df['datetime'])\n",
    "    df['value']=pd.to_numeric(df['value'],errors='coerce')\n",
    "    df.set_index('datetime',inplace=True)\n",
    "    # df=handle_outliers(df)\n",
    "    # handle_null_values(df)\n",
    "    return df\n"
   ]
  },
  {
   "cell_type": "markdown",
   "metadata": {},
   "source": [
    "CONSTANTS"
   ]
  },
  {
   "cell_type": "code",
   "execution_count": 7,
   "metadata": {},
   "outputs": [],
   "source": [
    "#Getting Data and creating Dataframe.\n",
    "GalchiSeriesId=7027\n",
    "SuirentarSeriesID=7009\n",
    "chumlingatSeriesID=6991\n",
    "BudhiGandakiSeriesID=7045\n",
    "\n",
    "START_DATE=\"2024-12-14:00:00\"\n",
    "END_DATE=\"2024-12-16T00:00:00\""
   ]
  },
  {
   "cell_type": "markdown",
   "metadata": {},
   "source": [
    "FETCH FROM API AND CREATE DF"
   ]
  },
  {
   "cell_type": "code",
   "execution_count": 8,
   "metadata": {},
   "outputs": [],
   "source": [
    "budhi_gandaki = fetch_data(BudhiGandakiSeriesID,START_DATE,END_DATE)\n",
    "galchi = fetch_data(GalchiSeriesId,START_DATE,END_DATE)\n",
    "suirenitar = fetch_data(SuirentarSeriesID, \"2024-12-14:00:00\", \"2024-12-22T00:00:00\")\n",
    "\n",
    "#creating DataFrame\n",
    "budhi_gandaki_df=pd.DataFrame(budhi_gandaki)\n",
    "galchi_df=pd.DataFrame(galchi)\n",
    "suirenitar_df=pd.DataFrame(suirenitar)\n",
    "\n",
    "# #preprocess\n",
    "budhi_gandaki_df=preprocess_data(budhi_gandaki_df)\n",
    "galchi_df=preprocess_data(galchi_df)\n",
    "suirenitar_df=preprocess_data(suirenitar_df)\n",
    "\n",
    "#export csv\n",
    "budhi_gandaki_df.to_csv('Dataset/Dev/Original_Fetched/budhi_gandaki_df.csv',index=True)\n",
    "galchi_df.to_csv('Dataset/Dev/Original_Fetched/galchi_df.csv',index=True)\n",
    "suirenitar_df.to_csv('Dataset/Dev/Original_Fetched/suirenitar_df.csv',index=True)"
   ]
  },
  {
   "cell_type": "markdown",
   "metadata": {},
   "source": [
    "Visualizing Data"
   ]
  },
  {
   "cell_type": "code",
   "execution_count": null,
   "metadata": {},
   "outputs": [],
   "source": [
    "budhi_gandaki_df=budhi_gandaki_df[['value']]\n",
    "galchi_df=galchi_df[['value']]\n",
    "suirenitar_df=suirenitar_df[['value']]\n",
    "fig,ax=plt.subplots(3,1,figsize=(20,10),sharex=True)\n",
    "budhi_gandaki_df.plot(color='red',ax=ax[0])\n",
    "\n",
    "galchi_df.plot(color='blue',ax=ax[1])\n",
    "\n",
    "suirenitar_df.plot(color='green',ax=ax[2])\n"
   ]
  },
  {
   "cell_type": "markdown",
   "metadata": {},
   "source": [
    "Calculate Discharge"
   ]
  },
  {
   "cell_type": "code",
   "execution_count": 18,
   "metadata": {},
   "outputs": [],
   "source": [
    "galchi_df['discharge']=galchi_df.apply(lambda row:calculate_discharge_galchi(water_level=row['value']),axis=1)\n",
    "budhi_gandaki_df['discharge']=budhi_gandaki_df.apply(lambda row:calculate_discharge_budhi(water_level=row['value']),axis=1)\n",
    "suirenitar_df['discharge']=suirenitar_df.apply(lambda row:calculate_discharge_suirenitar(water_level=row['value']),axis=1)"
   ]
  },
  {
   "cell_type": "code",
   "execution_count": 21,
   "metadata": {},
   "outputs": [],
   "source": [
    "galchi_df['mean_velocity']=galchi_df.apply(lambda row:calculate_mean_velocity_galchi(row['discharge']),axis=1)\n",
    "budhi_gandaki_df['mean_velocity']=budhi_gandaki_df.apply(lambda row:calculate_mean_velocity_buddhi(row['discharge']),axis=1)"
   ]
  },
  {
   "cell_type": "code",
   "execution_count": null,
   "metadata": {},
   "outputs": [],
   "source": [
    "galchi_df[['time_lag_hr', 'time_lag_min']] = galchi_df.apply(\n",
    "    lambda row: pd.Series(calcualte_time(DISTANCE_GALCHI_SUIRENITAR, row['mean_velocity'])), axis=1\n",
    ")\n",
    "budhi_df[['time_lag_hr', 'time_lag_min']] = budhi_df.apply(\n",
    "    lambda row: pd.Series(calcualte_time(DISTANCE_BUDHI_SUIRENITAR, row['mean_velocity'])), axis=1\n",
    ")\n"
   ]
  }
 ],
 "metadata": {
  "kernelspec": {
   "display_name": "rts_env",
   "language": "python",
   "name": "python3"
  },
  "language_info": {
   "codemirror_mode": {
    "name": "ipython",
    "version": 3
   },
   "file_extension": ".py",
   "mimetype": "text/x-python",
   "name": "python",
   "nbconvert_exporter": "python",
   "pygments_lexer": "ipython3",
   "version": "3.10.11"
  }
 },
 "nbformat": 4,
 "nbformat_minor": 2
}
